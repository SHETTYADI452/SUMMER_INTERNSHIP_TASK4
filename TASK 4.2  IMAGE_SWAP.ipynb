{
 "cells": [
  {
   "cell_type": "markdown",
   "id": "exciting-germany",
   "metadata": {},
   "source": [
    "# Task 4.2  Take 2 images crop some parts of both images and swap it. "
   ]
  },
  {
   "cell_type": "code",
   "execution_count": 139,
   "id": "sublime-manual",
   "metadata": {},
   "outputs": [],
   "source": [
    "# importing libraries\n",
    "\n",
    "import cv2\n",
    "import numpy as np"
   ]
  },
  {
   "cell_type": "code",
   "execution_count": 140,
   "id": "automotive-perspective",
   "metadata": {},
   "outputs": [],
   "source": [
    "#importing image 1\n",
    "\n",
    "photo1=cv2.imread('a.jpeg')"
   ]
  },
  {
   "cell_type": "code",
   "execution_count": 141,
   "id": "diagnostic-playing",
   "metadata": {},
   "outputs": [],
   "source": [
    "cv2.imshow('virat',photo1)\n",
    "cv2.waitKey()\n",
    "cv2.destroyAllWindows()"
   ]
  },
  {
   "cell_type": "code",
   "execution_count": 142,
   "id": "noted-german",
   "metadata": {},
   "outputs": [],
   "source": [
    "#importing image 2\n",
    "\n",
    "photo2=cv2.imread('b.jpeg')\n"
   ]
  },
  {
   "cell_type": "code",
   "execution_count": 143,
   "id": "expected-outdoors",
   "metadata": {},
   "outputs": [],
   "source": [
    "cv2.imshow('',photo2)\n",
    "cv2.waitKey()\n",
    "cv2.destroyAllWindows()\n"
   ]
  },
  {
   "cell_type": "code",
   "execution_count": 144,
   "id": "recovered-moral",
   "metadata": {},
   "outputs": [
    {
     "data": {
      "text/plain": [
       "(509, 350, 3)"
      ]
     },
     "execution_count": 144,
     "metadata": {},
     "output_type": "execute_result"
    }
   ],
   "source": [
    "#Dimensions\n",
    "\n",
    "photo1.shape"
   ]
  },
  {
   "cell_type": "code",
   "execution_count": 145,
   "id": "looking-crack",
   "metadata": {},
   "outputs": [
    {
     "data": {
      "text/plain": [
       "(509, 350, 3)"
      ]
     },
     "execution_count": 145,
     "metadata": {},
     "output_type": "execute_result"
    }
   ],
   "source": [
    "photo2.shape"
   ]
  },
  {
   "cell_type": "code",
   "execution_count": 148,
   "id": "known-communication",
   "metadata": {},
   "outputs": [],
   "source": [
    "# CROPPING IMAGE 1\n",
    "\n",
    "a_crop=photo1[20:220,100:300]"
   ]
  },
  {
   "cell_type": "code",
   "execution_count": 149,
   "id": "spiritual-skill",
   "metadata": {},
   "outputs": [],
   "source": [
    "cv2.imshow('pic1_crop',a_crop)\n",
    "cv2.waitKey()\n",
    "cv2.destroyAllWindows()"
   ]
  },
  {
   "cell_type": "code",
   "execution_count": 150,
   "id": "interpreted-dependence",
   "metadata": {},
   "outputs": [],
   "source": [
    "#SWAPPING CROPPED IMAGE 1 WITH IMAGE 2\n",
    "photo2[20:220,100:300]=a_crop"
   ]
  },
  {
   "cell_type": "code",
   "execution_count": null,
   "id": "featured-crest",
   "metadata": {},
   "outputs": [],
   "source": [
    "cv2.imshow('pic2_final',photo2)\n",
    "cv2.waitKey()\n",
    "cv2.destroyAllWindows()"
   ]
  },
  {
   "cell_type": "code",
   "execution_count": 123,
   "id": "varied-neutral",
   "metadata": {},
   "outputs": [],
   "source": [
    "photo2=cv2.imread('b.jpeg')"
   ]
  },
  {
   "cell_type": "code",
   "execution_count": 124,
   "id": "optimum-component",
   "metadata": {},
   "outputs": [],
   "source": [
    "# CROPPING IMAGE 1\n",
    "\n",
    "b_crop=photo2[20:220,100:300]"
   ]
  },
  {
   "cell_type": "code",
   "execution_count": 125,
   "id": "cooked-savage",
   "metadata": {},
   "outputs": [],
   "source": [
    "cv2.imshow('pic2_crop',b_crop)\n",
    "cv2.waitKey()\n",
    "cv2.destroyAllWindows()"
   ]
  },
  {
   "cell_type": "code",
   "execution_count": 126,
   "id": "electronic-terminal",
   "metadata": {},
   "outputs": [],
   "source": [
    "#SWAPPING CROPPED IMAGE 2 WITH IMAGE 1 viceversa\n",
    "\n",
    "photo1[20:220,100:300]=b_crop"
   ]
  },
  {
   "cell_type": "code",
   "execution_count": 127,
   "id": "advance-rally",
   "metadata": {},
   "outputs": [],
   "source": [
    "cv2.imshow('pic1_final',photo1)\n",
    "cv2.waitKey()\n",
    "cv2.destroyAllWindows()"
   ]
  }
 ],
 "metadata": {
  "kernelspec": {
   "display_name": "Python 3",
   "language": "python",
   "name": "python3"
  },
  "language_info": {
   "codemirror_mode": {
    "name": "ipython",
    "version": 3
   },
   "file_extension": ".py",
   "mimetype": "text/x-python",
   "name": "python",
   "nbconvert_exporter": "python",
   "pygments_lexer": "ipython3",
   "version": "3.8.8"
  }
 },
 "nbformat": 4,
 "nbformat_minor": 5
}
