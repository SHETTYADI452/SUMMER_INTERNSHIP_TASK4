{
 "cells": [
  {
   "cell_type": "markdown",
   "metadata": {},
   "source": [
    "# TASK 4.1 📌 Create an image by yourself Using Python Code "
   ]
  },
  {
   "cell_type": "markdown",
   "metadata": {},
   "source": [
    "importing libraries"
   ]
  },
  {
   "cell_type": "code",
   "execution_count": 60,
   "metadata": {},
   "outputs": [],
   "source": [
    "import cv2\n",
    "import numpy as np\n"
   ]
  },
  {
   "cell_type": "markdown",
   "metadata": {},
   "source": [
    "#uint8 is an unsigned 8-bit integer that can represent values 0.. 255. int on the other hand is usually a 32-bit signed integer. #When you create array using dtype=int, each element in that aray takes 4 bytes. OpenCV apparently expect array to be made of 8-#bit tuples representing red, green and blue."
   ]
  },
  {
   "cell_type": "code",
   "execution_count": 61,
   "metadata": {
    "scrolled": false
   },
   "outputs": [],
   "source": [
    "# Creating  Image\n",
    "\n",
    "img = np.zeros((1000,1000,3),np.uint8)\n",
    "hsv = cv2.cvtColor(img,cv2.COLOR_BGR2HSV)"
   ]
  },
  {
   "cell_type": "code",
   "execution_count": 62,
   "metadata": {},
   "outputs": [],
   "source": [
    "img[0:600,0:1000]=[235,206,135]      #sky\n",
    "img[600:1000,0:1000]=[0,255,0]       #land\n",
    "\n",
    "img[200:600,350:650]=[0,0,255]       #building\n",
    "\n",
    "img[220:270,370:430]=[255,255,255]   #windows row1\n",
    "img[220:270,470:530]=[255,255,255]    \n",
    "img[220:270,570:630]=[255,255,255]\n",
    "\n",
    "img[300:350,370:430]=[255,255,255]   #windows row2\n",
    "img[300:350,470:530]=[255,255,255]\n",
    "img[300:350,570:630]=[255,255,255]\n",
    "\n",
    "img[380:430,370:430]=[255,255,255]  #windows row3\n",
    "img[380:430,470:530]=[255,255,255]\n",
    "img[380:430,570:630]=[255,255,255]\n",
    "\n",
    "img[460:510,370:430]=[255,255,255]   #windows row3\n",
    "img[460:510,470:530]=[255,255,255]\n",
    "img[460:510,570:630]=[255,255,255]\n",
    "\n",
    "\n",
    "img[540:590,370:430]=[255,255,255]\n",
    "img[530:596,470:530]=[255,255,255]\n",
    "img[540:590,570:630]=[255,255,255]"
   ]
  },
  {
   "cell_type": "code",
   "execution_count": 63,
   "metadata": {},
   "outputs": [],
   "source": [
    "# Sun\n",
    "img = cv2.circle(img,(100,100),60,(0,255,255),-1)"
   ]
  },
  {
   "cell_type": "code",
   "execution_count": null,
   "metadata": {},
   "outputs": [],
   "source": [
    "#output\n",
    "\n",
    "cv2.imshow('TASK 4.1',img)\n",
    "cv2.waitKey(0)\n",
    "cv2.destroyAllWindows()"
   ]
  },
  {
   "cell_type": "code",
   "execution_count": null,
   "metadata": {},
   "outputs": [],
   "source": [
    "img"
   ]
  },
  {
   "cell_type": "code",
   "execution_count": null,
   "metadata": {},
   "outputs": [],
   "source": []
  }
 ],
 "metadata": {
  "kernelspec": {
   "display_name": "Python 3",
   "language": "python",
   "name": "python3"
  },
  "language_info": {
   "codemirror_mode": {
    "name": "ipython",
    "version": 3
   },
   "file_extension": ".py",
   "mimetype": "text/x-python",
   "name": "python",
   "nbconvert_exporter": "python",
   "pygments_lexer": "ipython3",
   "version": "3.8.8"
  }
 },
 "nbformat": 4,
 "nbformat_minor": 4
}
